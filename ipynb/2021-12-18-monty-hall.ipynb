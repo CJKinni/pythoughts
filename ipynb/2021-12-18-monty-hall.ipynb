{
 "cells": [
  {
   "cell_type": "markdown",
   "metadata": {},
   "source": [
    "2021-12-18\n",
    "\n",
    "# The Monty Hall Problem\n",
    "\n",
    "The [Monty Hall Problem](https://en.wikipedia.org/wiki/Monty_Hall_problem) is a potentially unintuitive probability puzzle:\n",
    "\n",
    "> Suppose you're on a game show, and you're given the choice of three doors: Behind one door is a car; behind the others, goats. You pick a door, say No. 1, and the host, who knows what's behind the doors, opens another door, say No. 3, which has a goat. He then says to you, \"Do you want to pick door No. 2?\" Is it to your advantage to switch your choice?\n",
    "\n",
    "While I've _known_ the answer to the problem for a number of years, I still don't have an intuition for it.  I'm just starting to seriously learn Python and I thought modeling the problem would be an excellent opportunity to start using Python notebooks.\n",
    "\n",
    "The notes in this and other notebooks will include both a discussion of the problem at hand and the structure of the code.  I am not confident about either, so these documents should be seen as a series of research notes, rather than statements of fact."
   ]
  },
  {
   "cell_type": "code",
   "execution_count": 38,
   "metadata": {},
   "outputs": [],
   "source": [
    "import matplotlib.pyplot as plt\n",
    "import random"
   ]
  },
  {
   "cell_type": "markdown",
   "metadata": {},
   "source": [
    "Here's my initial modeling of the problem.  My initial intuition for how to structure answering the problem is to build a function that runs a single monty hall scenario, with a parameter of whether the contestant switches their choice.  Then I'd like to run a set of simulations and show the results."
   ]
  },
  {
   "cell_type": "code",
   "execution_count": 39,
   "metadata": {},
   "outputs": [],
   "source": [
    "def monty_hall(switch=True):\n",
    "    # We set the door with the prize as True ahead of time.\n",
    "    doors = [False, False, True]\n",
    "    random.shuffle(doors)\n",
    "    choices = { i:doors[i] for i in range(3) }\n",
    "\n",
    "    # Our contestant picks a random choice\n",
    "    contestant_choice_1_result = choices.pop(random.choice(list(choices.keys())))\n",
    "\n",
    "    # Monty Hall picks one of the doors we didn't pick that's false, and reveals it.\n",
    "    # This is the thing that throws people.  Monty Hall would never reveal a door\n",
    "    # that's true.  What's the fun in that?  But because he's only going to pick a\n",
    "    # door without a prize, that changes the odds for the switch.\n",
    "    choices.pop({v: k for k, v in choices.items()}[False])\n",
    "\n",
    "    if switch:\n",
    "        return list(choices.values())[0]\n",
    "    else:\n",
    "        return contestant_choice_1_result"
   ]
  },
  {
   "cell_type": "markdown",
   "metadata": {},
   "source": [
    "We now simulate 1 million runs switching, and 1 million not switching, to see the results we get.\n",
    "\n",
    "I'm pretty sure there's a better or more pythonic way of handling this, but using the list comprehensions is about as much python as I've got the brain capacity for at the moment."
   ]
  },
  {
   "cell_type": "code",
   "execution_count": 40,
   "metadata": {},
   "outputs": [
    {
     "name": "stdout",
     "output_type": "stream",
     "text": [
      "Switching Successes: 66.6825% (666825/1000000)\n",
      "Not Switching Successes: 33.2882% (332882/1000000)\n"
     ]
    }
   ],
   "source": [
    "sim_count = 1_000_000\n",
    "\n",
    "simulations_switching = [monty_hall() for _ in range(sim_count)]\n",
    "simulations_not_switching = [monty_hall(switch=False) for _ in range(sim_count)]\n",
    "\n",
    "successes_switching = len([sims for sims in simulations_switching if sims])\n",
    "successes_not_switching = len([sims for sims in simulations_not_switching if sims])\n",
    "\n",
    "print(f\"Switching Successes: {100*successes_switching/sim_count}% ({successes_switching}/{sim_count})\")\n",
    "print(f\"Not Switching Successes: {100*successes_not_switching/sim_count}% ({successes_not_switching}/{sim_count})\")"
   ]
  },
  {
   "cell_type": "markdown",
   "metadata": {},
   "source": [
    "Wow!  That looks like the result we'd expect.  Even when I was running 1,000 iterations, this was the same result.\n",
    "\n",
    "So I guess if you're going to be competing in a Monty Hall problem 1,000 times, you should _definitely_ switch.  However, it can sometimes pay off to [not do that](https://www.distractify.com/p/monty-hall-problem-explained-survivor)."
   ]
  },
  {
   "cell_type": "code",
   "execution_count": 46,
   "metadata": {},
   "outputs": [
    {
     "data": {
      "text/plain": [
       "[666825, 332882]"
      ]
     },
     "execution_count": 46,
     "metadata": {},
     "output_type": "execute_result"
    },
    {
     "data": {
      "image/png": "[encoded data removed]",
      "text/plain": [
       "<Figure size 432x288 with 1 Axes>"
      ]
     },
     "metadata": {},
     "output_type": "display_data"
    }
   ],
   "source": [
    "successes = [successes_switching, successes_not_switching]\n",
    "plt.pie(successes, labels=['Switching Successes', 'Not Switching Successes'])\n",
    "successes"
   ]
  }
 ],
 "metadata": {
  "interpreter": {
   "hash": "b0fa6594d8f4cbf19f97940f81e996739fb7646882a419484c72d19e05852a7e"
  },
  "kernelspec": {
   "display_name": "Python 3.9.9 64-bit",
   "language": "python",
   "name": "python3"
  },
  "language_info": {
   "codemirror_mode": {
    "name": "ipython",
    "version": 3
   },
   "file_extension": ".py",
   "mimetype": "text/x-python",
   "name": "python",
   "nbconvert_exporter": "python",
   "pygments_lexer": "ipython3",
   "version": "3.9.9"
  },
  "orig_nbformat": 4
 },
 "nbformat": 4,
 "nbformat_minor": 2
}
