{
 "cells": [
  {
   "cell_type": "markdown",
   "metadata": {},
   "source": [
    "# PyQu\n",
    "\n",
    "A Python query language.\n",
    "\n",
    "PyQu is an attempt at defining a consistent language for querying structured Python data.\n",
    "It's goal is to make it quick and easy to access and manipulate highly structured\n",
    "data like JSON and HTML."
   ]
  },
  {
   "cell_type": "code",
   "execution_count": 35,
   "metadata": {},
   "outputs": [],
   "source": [
    "from urllib.request import urlopen\n",
    "import json\n",
    "\n",
    "data = urlopen('https://api.github.com/repos/stedolan/jq/commits?per_page=5').read().decode(\"utf-8\")\n",
    "JSON = json.loads(data)"
   ]
  },
  {
   "cell_type": "code",
   "execution_count": 45,
   "metadata": {},
   "outputs": [
    {
     "data": {
      "text/plain": [
       "{'value': '0c3455d3290fa03da8c01c135dd7126a80ed28a8'}"
      ]
     },
     "execution_count": 45,
     "metadata": {},
     "output_type": "execute_result"
    }
   ],
   "source": [
    "from typing import Any, Union\n",
    "\n",
    "def pyqu(data : Union[list, None], *queries) -> Any:\n",
    "    \"\"\" Query data quickly \"\"\"\n",
    "    if not queries:\n",
    "        return data\n",
    "    if not data:\n",
    "        return None\n",
    "    return pyqu(data[queries[0]], *queries[1:])\n",
    "\n",
    "def pyqure(data : Union[list, None], *queries, value : bool=True) -> list[Any]:\n",
    "    \"\"\" Query and research data \"\"\"\n",
    "    response = pyqu(data, *queries)\n",
    "    research = {}\n",
    "\n",
    "    if value: \n",
    "        research['value'] = response\n",
    "\n",
    "    if type(response) is dict:\n",
    "        research['length'] = len(response)\n",
    "        research['keys'] = [key for key in response.keys()]\n",
    "    \n",
    "    if type(response) is list:\n",
    "        research['length'] = len(response)\n",
    "    \n",
    "    return research\n",
    "\n",
    "pyqure(JSON, 0, 'parents', 0, 'sha')"
   ]
  },
  {
   "cell_type": "markdown",
   "metadata": {},
   "source": []
  },
  {
   "cell_type": "code",
   "execution_count": 53,
   "metadata": {},
   "outputs": [
    {
     "data": {
      "text/plain": [
       "'https://github.com/stedolan/jq/commit/0c3455d3290fa03da8c01c135dd7126a80ed28a8'"
      ]
     },
     "execution_count": 53,
     "metadata": {},
     "output_type": "execute_result"
    }
   ],
   "source": [
    "pyqu(JSON, 0, 'parents', 0, 'html_url', )"
   ]
  }
 ],
 "metadata": {
  "interpreter": {
   "hash": "b0fa6594d8f4cbf19f97940f81e996739fb7646882a419484c72d19e05852a7e"
  },
  "kernelspec": {
   "display_name": "Python 3.9.9 64-bit",
   "language": "python",
   "name": "python3"
  },
  "language_info": {
   "codemirror_mode": {
    "name": "ipython",
    "version": 3
   },
   "file_extension": ".py",
   "mimetype": "text/x-python",
   "name": "python",
   "nbconvert_exporter": "python",
   "pygments_lexer": "ipython3",
   "version": "3.9.9"
  },
  "orig_nbformat": 4
 },
 "nbformat": 4,
 "nbformat_minor": 2
}
