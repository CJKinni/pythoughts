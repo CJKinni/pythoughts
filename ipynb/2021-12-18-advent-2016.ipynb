{
 "cells": [
  {
   "cell_type": "code",
   "execution_count": 21,
   "metadata": {},
   "outputs": [],
   "source": [
    "from collections import namedtuple\n",
    "from pathlib import Path"
   ]
  },
  {
   "cell_type": "code",
   "execution_count": 22,
   "metadata": {},
   "outputs": [],
   "source": [
    "def Input(day):\n",
    "    return Path(f'../data/advent-2016/input_{day}.txt').read_text().rstrip()"
   ]
  },
  {
   "cell_type": "markdown",
   "metadata": {},
   "source": [
    "# Day 1"
   ]
  },
  {
   "cell_type": "markdown",
   "metadata": {},
   "source": [
    "Part 1:"
   ]
  },
  {
   "cell_type": "code",
   "execution_count": 23,
   "metadata": {},
   "outputs": [
    {
     "name": "stdout",
     "output_type": "stream",
     "text": [
      "1: 8\n"
     ]
    }
   ],
   "source": [
    "Vec2d = namedtuple('Vec2d', 'x y')\n",
    "dirs = [Vec2d(0, 1), Vec2d(1, 0), Vec2d(0, -1), Vec2d(-1, 0)]\n",
    "distances = {dir : 0 for dir in dirs}\n",
    "dir = 0\n",
    "\n",
    "for command in Input(1).split(', '):\n",
    "    rot = command[0]\n",
    "    dist = int(command[1:])\n",
    "    dir += 1 if rot == 'R' else -1\n",
    "    distances[dirs[dir%4]] += dist\n",
    "\n",
    "values = list(distances.values())\n",
    "print(f'1: {abs(values[0] - values[2]) + abs(values[1] - values[3])}')"
   ]
  },
  {
   "cell_type": "code",
   "execution_count": 28,
   "metadata": {},
   "outputs": [
    {
     "name": "stdout",
     "output_type": "stream",
     "text": [
      "2: 130\n"
     ]
    }
   ],
   "source": [
    "def loc_from_distances(distances):\n",
    "    dists = list(distances.values())\n",
    "    return Vec2d(dists[1]-dists[3], dists[0]-dists[2])\n",
    "\n",
    "visited_locs = {Vec2d(0,0)}\n",
    "\n",
    "dirs = [Vec2d(0, 1), Vec2d(1, 0), Vec2d(0, -1), Vec2d(-1, 0)]\n",
    "def walk(input):\n",
    "    dir = 0\n",
    "    loc = Vec2d(0,0)\n",
    "    distances = {dir : 0 for dir in dirs}\n",
    "    for command in input:\n",
    "        rot = command[0]\n",
    "        dist = int(command[1:])\n",
    "        dir += 1 if rot == 'R' else -1\n",
    "\n",
    "        for _ in range(dist):\n",
    "            distances[dirs[dir%4]] += 1\n",
    "            loc = loc_from_distances(distances)\n",
    "            if loc in visited_locs:\n",
    "                return loc\n",
    "            visited_locs.add(loc)\n",
    "\n",
    "loc = walk(Input(1).split(', '))\n",
    "print(f'2: {abs(loc.x) + abs(loc.y)}')\n"
   ]
  },
  {
   "cell_type": "markdown",
   "metadata": {},
   "source": [
    "## Day 2"
   ]
  },
  {
   "cell_type": "code",
   "execution_count": 25,
   "metadata": {},
   "outputs": [
    {
     "data": {
      "text/plain": [
       "[8, 'B', 8, 'B', 1]"
      ]
     },
     "execution_count": 25,
     "metadata": {},
     "output_type": "execute_result"
    }
   ],
   "source": [
    "grid = [\n",
    "    [None, None, None, None, None, None, None],\n",
    "    [None, None, None, 1, None, None, None],\n",
    "    [None, None, 2, 3, 4, None, None],\n",
    "    [None, 5, 6, 7, 8, 9, None],\n",
    "    [None, None, 'A', 'B', 'C', None, None],\n",
    "    [None, None, None, 'D', None, None, None],\n",
    "    [None, None, None, None, None, None, None],\n",
    "]\n",
    "\n",
    "input = Input(2).split(\"\\n\")\n",
    "pos = Vec2d(1,3)\n",
    "\n",
    "code = []\n",
    "for line in input:\n",
    "    chars = [char for char in line]\n",
    "    for char in chars:\n",
    "        match char:\n",
    "            case 'U':\n",
    "                new_pos = Vec2d(pos.x, pos.y - 1)\n",
    "            case 'D':\n",
    "                new_pos = Vec2d(pos.x, pos.y + 1)\n",
    "            case 'L':\n",
    "                new_pos = Vec2d(pos.x - 1, pos.y)\n",
    "            case 'R':\n",
    "                new_pos = Vec2d(pos.x + 1, pos.y)\n",
    "        if grid[new_pos.y][new_pos.x] != None:\n",
    "            pos = new_pos\n",
    "    \n",
    "    code.append(grid[pos.y][pos.x])\n",
    "\n",
    "code"
   ]
  }
 ],
 "metadata": {
  "interpreter": {
   "hash": "b0fa6594d8f4cbf19f97940f81e996739fb7646882a419484c72d19e05852a7e"
  },
  "kernelspec": {
   "display_name": "Python 3.9.9 64-bit",
   "language": "python",
   "name": "python3"
  },
  "language_info": {
   "codemirror_mode": {
    "name": "ipython",
    "version": 3
   },
   "file_extension": ".py",
   "mimetype": "text/x-python",
   "name": "python",
   "nbconvert_exporter": "python",
   "pygments_lexer": "ipython3",
   "version": "3.10.1"
  },
  "orig_nbformat": 4
 },
 "nbformat": 4,
 "nbformat_minor": 2
}
