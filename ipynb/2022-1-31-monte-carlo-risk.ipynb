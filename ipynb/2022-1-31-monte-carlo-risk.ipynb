{
 "cells": [
  {
   "cell_type": "markdown",
   "metadata": {},
   "source": [
    "There were some comments about this Reddit post about averages, and I wanted to\n",
    "explore the Monte Carlo simulation.\n",
    "\n",
    "https://www.reddit.com/r/Bogleheads/comments/sgho3n/lessons_from_buffet_never_lose_money/"
   ]
  },
  {
   "cell_type": "markdown",
   "metadata": {},
   "source": [
    "We have adice roll"
   ]
  },
  {
   "cell_type": "code",
   "execution_count": 92,
   "metadata": {},
   "outputs": [],
   "source": [
    "import random\n",
    "\n",
    "def roll() -> int:\n",
    "    \"\"\"Roll a dice and get back a percent gain/loss\"\"\"\n",
    "    roll = random.randint(1,6)\n",
    "    if roll == 1:\n",
    "        return 2\n",
    "    if roll == 2:\n",
    "        return 0.5\n",
    "    return 1.05"
   ]
  },
  {
   "cell_type": "code",
   "execution_count": 93,
   "metadata": {},
   "outputs": [],
   "source": [
    "returns = []\n",
    "for _ in range(1000):\n",
    "    value = 100\n",
    "    for _ in range(300):\n",
    "        value *= roll()\n",
    "    returns.append(value)"
   ]
  },
  {
   "cell_type": "markdown",
   "metadata": {},
   "source": [
    "The percent chance of a positive return after 300 games:"
   ]
  },
  {
   "cell_type": "code",
   "execution_count": 94,
   "metadata": {},
   "outputs": [
    {
     "data": {
      "text/plain": [
       "90.8"
      ]
     },
     "execution_count": 94,
     "metadata": {},
     "output_type": "execute_result"
    }
   ],
   "source": [
    "100 * len([ret for ret in returns if ret > 100]) / len(returns)"
   ]
  },
  {
   "cell_type": "markdown",
   "metadata": {},
   "source": []
  }
 ],
 "metadata": {
  "interpreter": {
   "hash": "b0fa6594d8f4cbf19f97940f81e996739fb7646882a419484c72d19e05852a7e"
  },
  "kernelspec": {
   "display_name": "Python 3.9.9 64-bit",
   "language": "python",
   "name": "python3"
  },
  "language_info": {
   "codemirror_mode": {
    "name": "ipython",
    "version": 3
   },
   "file_extension": ".py",
   "mimetype": "text/x-python",
   "name": "python",
   "nbconvert_exporter": "python",
   "pygments_lexer": "ipython3",
   "version": "3.9.9"
  },
  "orig_nbformat": 4
 },
 "nbformat": 4,
 "nbformat_minor": 2
}
