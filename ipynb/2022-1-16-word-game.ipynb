{
 "cells": [
  {
   "cell_type": "markdown",
   "metadata": {},
   "source": [
    "My wife came home with a word puzzle from Will Shortz that was discussed on NPR.\n",
    "\n",
    "Find a word where the sum of its characters are 51, and the sum of its last two characters equals the value the last character of a 4 letter antonym."
   ]
  },
  {
   "cell_type": "code",
   "execution_count": 15,
   "metadata": {},
   "outputs": [
    {
     "name": "stderr",
     "output_type": "stream",
     "text": [
      "[nltk_data] Downloading package words to /Users/cjkinni/nltk_data...\n",
      "[nltk_data]   Package words is already up-to-date!\n",
      "[nltk_data] Downloading package wordnet to /Users/cjkinni/nltk_data...\n",
      "[nltk_data]   Unzipping corpora/wordnet.zip.\n"
     ]
    }
   ],
   "source": [
    "import nltk\n",
    "nltk.download('words')\n",
    "nltk.download('wordnet')\n",
    "\n",
    "from nltk.corpus import wordnet\n",
    "from nltk.corpus import words\n",
    "five_letter_words = [word for word in words.words() if len(word) == 5]\n",
    "four_letter_words = [word for word in words.words() if len(word) == 4]"
   ]
  },
  {
   "cell_type": "code",
   "execution_count": 16,
   "metadata": {},
   "outputs": [],
   "source": [
    "def char_val(c):\n",
    "    \"\"\"Get the value of a given character.\n",
    "    a = 1, b =  2, etc.\"\"\"\n",
    "    return ord(c) - ord('a') + 1"
   ]
  },
  {
   "cell_type": "code",
   "execution_count": 30,
   "metadata": {},
   "outputs": [],
   "source": [
    "correct_sum_five_letter_words = [word for word in five_letter_words \n",
    "                                if sum([char_val(c) for c in word]) == 51]"
   ]
  },
  {
   "cell_type": "code",
   "execution_count": 34,
   "metadata": {},
   "outputs": [
    {
     "name": "stdout",
     "output_type": "stream",
     "text": [
      "broke: keep\n",
      "thick: thin\n",
      "thick: thin\n",
      "thick: thin\n",
      "thick: thin\n"
     ]
    }
   ],
   "source": [
    "for base_word in correct_sum_five_letter_words:\n",
    "    for syn in wordnet.synsets(base_word):\n",
    "        for l in syn.lemmas():\n",
    "            for ant in l.antonyms():\n",
    "                antonym = ant.name()\n",
    "                if len(antonym) != 4:\n",
    "                    continue\n",
    "                if (char_val(base_word[3]) + char_val(base_word[4])) == char_val(antonym[3]):\n",
    "                    print(f\"{base_word}: {antonym}\")"
   ]
  }
 ],
 "metadata": {
  "interpreter": {
   "hash": "bd385fe162c5ca0c84973b7dd5c518456272446b2b64e67c2a69f949ca7a1754"
  },
  "kernelspec": {
   "display_name": "Python 3.10.1 64-bit",
   "language": "python",
   "name": "python3"
  },
  "language_info": {
   "codemirror_mode": {
    "name": "ipython",
    "version": 3
   },
   "file_extension": ".py",
   "mimetype": "text/x-python",
   "name": "python",
   "nbconvert_exporter": "python",
   "pygments_lexer": "ipython3",
   "version": "3.8.8"
  },
  "orig_nbformat": 4
 },
 "nbformat": 4,
 "nbformat_minor": 2
}
